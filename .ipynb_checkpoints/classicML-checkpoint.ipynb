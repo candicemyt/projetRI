{
 "cells": [
  {
   "cell_type": "code",
   "execution_count": null,
   "metadata": {
    "pycharm": {
     "is_executing": true,
     "name": "#%%\n"
    }
   },
   "outputs": [],
   "source": [
    "import numpy as np\n",
    "import pandas as pd\n",
    "\n",
    "from sklearn.metrics import accuracy_score, precision_score, recall_score, f1_score\n",
    "from sklearn.feature_extraction import DictVectorizer\n",
    "from sklearn.naive_bayes import MultinomialNB, GaussianNB, ComplementNB\n",
    "from sklearn.svm import SVC\n",
    "from sklearn.ensemble import RandomForestClassifier, AdaBoostClassifier\n",
    "from sklearn.preprocessing import MultiLabelBinarizer\n",
    "from sklearn.model_selection import GridSearchCV\n",
    "\n",
    "from skmultilearn.problem_transform import BinaryRelevance\n",
    "from skmultilearn.adapt import MLkNN\n",
    "\n",
    "from load_data import *\n",
    "from preprocessing.feature_analysis import feature_analysis\n",
    "from preprocessing.intents_preprocess import intents_preprocessing\n",
    "from preprocessing.text_preprocess import *\n",
    "\n",
    "import importlib\n",
    "import preprocessing.feature_analysis\n",
    "importlib.reload(preprocessing.feature_analysis)\n",
    "from preprocessing.feature_analysis import *"
   ]
  },
  {
   "cell_type": "markdown",
   "metadata": {
    "pycharm": {
     "name": "#%% md\n"
    }
   },
   "source": []
  },
  {
   "cell_type": "markdown",
   "metadata": {
    "pycharm": {
     "name": "#%% md\n"
    }
   },
   "source": [
    "# Chargement des données et preprocessing"
   ]
  },
  {
   "cell_type": "code",
   "execution_count": 2,
   "metadata": {
    "pycharm": {
     "is_executing": true,
     "name": "#%%\n"
    }
   },
   "outputs": [],
   "source": [
    "X_train, labels_train, dico_labels = load_data(\"train\",127)\n",
    "X_val, labels_val, dico_labels_val = load_data(\"val\",20)\n",
    "X_test, labels_test,dico_labels_test = load_data(\"test\",34)"
   ]
  },
  {
   "cell_type": "code",
   "execution_count": 3,
   "metadata": {
    "pycharm": {
     "is_executing": true,
     "name": "#%%\n"
    }
   },
   "outputs": [],
   "source": [
    "binarizer=MultiLabelBinarizer()"
   ]
  },
  {
   "cell_type": "markdown",
   "metadata": {
    "pycharm": {
     "name": "#%% md\n"
    }
   },
   "source": [
    "### Preprocessing train"
   ]
  },
  {
   "cell_type": "code",
   "execution_count": 4,
   "metadata": {
    "pycharm": {
     "is_executing": true,
     "name": "#%%\n"
    }
   },
   "outputs": [],
   "source": [
    "##labels\n",
    "labels_preprocessed_train = intents_preprocessing(labels_train)\n",
    "#labels flatten\n",
    "labels_train=sum(labels_preprocessed_train,[])\n",
    "#binarization for BinaryRelevance\n",
    "labels_train=binarizer.fit_transform(labels_train)"
   ]
  },
  {
   "cell_type": "code",
   "execution_count": 5,
   "metadata": {
    "pycharm": {
     "is_executing": true,
     "name": "#%%\n"
    }
   },
   "outputs": [
    {
     "data": {
      "application/vnd.jupyter.widget-view+json": {
       "model_id": "79d03df9e774497599dee06e14d99863",
       "version_major": 2,
       "version_minor": 0
      },
      "text/plain": [
       "  0%|          | 0/16142 [00:00<?, ?it/s]"
      ]
     },
     "metadata": {},
     "output_type": "display_data"
    }
   ],
   "source": [
    "##data\n",
    "X_train_preprocess = [[preprocessing(text) for text in dialogue] for dialogue in X_train]\n",
    "features_train = feature_analysis(X_train_preprocess)\n",
    "#features flatten\n",
    "features_train=sum(features_train,[])\n",
    "#vectorizer\n",
    "vec = DictVectorizer()\n",
    "features_train = vec.fit_transform(features_train)"
   ]
  },
  {
   "cell_type": "markdown",
   "metadata": {
    "pycharm": {
     "name": "#%% md\n"
    }
   },
   "source": [
    "### Preprocessing val"
   ]
  },
  {
   "cell_type": "code",
   "execution_count": 6,
   "metadata": {
    "pycharm": {
     "is_executing": true,
     "name": "#%%\n"
    }
   },
   "outputs": [
    {
     "data": {
      "application/vnd.jupyter.widget-view+json": {
       "model_id": "a74bcbb9f355476cade82a1eec531ca8",
       "version_major": 2,
       "version_minor": 0
      },
      "text/plain": [
       "  0%|          | 0/2482 [00:00<?, ?it/s]"
      ]
     },
     "metadata": {},
     "output_type": "display_data"
    }
   ],
   "source": [
    "##labels\n",
    "labels_preprocessed_val = intents_preprocessing(labels_val)\n",
    "labels_val=sum(labels_preprocessed_val,[])\n",
    "labels_val=binarizer.fit_transform(labels_val)\n",
    "\n",
    "##data\n",
    "X_val_preprocess = [[preprocessing(text) for text in dialogue] for dialogue in X_val]\n",
    "features_val = feature_analysis(X_val_preprocess)\n",
    "features_val=sum(features_val,[])\n",
    "vec = DictVectorizer()\n",
    "features_val = vec.fit_transform(features_val)"
   ]
  },
  {
   "cell_type": "markdown",
   "metadata": {
    "pycharm": {
     "name": "#%% md\n"
    }
   },
   "source": [
    "### Preprocessing test"
   ]
  },
  {
   "cell_type": "code",
   "execution_count": 7,
   "metadata": {
    "pycharm": {
     "is_executing": true,
     "name": "#%%\n"
    }
   },
   "outputs": [
    {
     "data": {
      "application/vnd.jupyter.widget-view+json": {
       "model_id": "fdff53720a34498b988e20d880b03b8a",
       "version_major": 2,
       "version_minor": 0
      },
      "text/plain": [
       "  0%|          | 0/4201 [00:00<?, ?it/s]"
      ]
     },
     "metadata": {},
     "output_type": "display_data"
    }
   ],
   "source": [
    "##labels\n",
    "labels_preprocessed_test = intents_preprocessing(labels_test)\n",
    "labels_test=sum(labels_preprocessed_test,[])\n",
    "labels_test=binarizer.fit_transform(labels_test)\n",
    "\n",
    "##data\n",
    "X_test_preprocess = [[preprocessing(text) for text in dialogue] for dialogue in X_test]\n",
    "features_test = feature_analysis(X_test_preprocess)\n",
    "features_test=sum(features_test,[])\n",
    "vec = DictVectorizer()\n",
    "features_test = vec.fit_transform(features_test)"
   ]
  },
  {
   "cell_type": "code",
   "execution_count": 8,
   "metadata": {
    "pycharm": {
     "is_executing": true,
     "name": "#%%\n"
    }
   },
   "outputs": [
    {
     "data": {
      "application/vnd.jupyter.widget-view+json": {
       "model_id": "70408a379bad436dbae44687cfeb604b",
       "version_major": 2,
       "version_minor": 0
      },
      "text/plain": [
       "  0%|          | 0/4201 [00:00<?, ?it/s]"
      ]
     },
     "metadata": {},
     "output_type": "display_data"
    },
    {
     "name": "stdout",
     "output_type": "stream",
     "text": [
      "325.68599343299866\n"
     ]
    },
    {
     "data": {
      "application/vnd.jupyter.widget-view+json": {
       "model_id": "f7f7ca9fef244561b64901ec829c95aa",
       "version_major": 2,
       "version_minor": 0
      },
      "text/plain": [
       "  0%|          | 0/4201 [00:00<?, ?it/s]"
      ]
     },
     "metadata": {},
     "output_type": "display_data"
    },
    {
     "name": "stdout",
     "output_type": "stream",
     "text": [
      "321.5447585582733\n"
     ]
    }
   ],
   "source": [
    "from time import time\n",
    "import preprocessing.feature_analysisv1 as manon\n",
    "import preprocessing.feature_analysis as candice\n",
    "\n",
    "start = time()\n",
    "features = manon.feature_analysis(X_test_preprocess)\n",
    "print(time() - start)\n",
    "\n",
    "start = time()\n",
    "features = candice.feature_analysis(X_test_preprocess)\n",
    "print(time() - start)"
   ]
  },
  {
   "cell_type": "markdown",
   "metadata": {
    "pycharm": {
     "name": "#%% md\n"
    }
   },
   "source": [
    "## Naive Bayes"
   ]
  },
  {
   "cell_type": "code",
   "execution_count": 10,
   "metadata": {
    "pycharm": {
     "is_executing": true,
     "name": "#%%\n"
    }
   },
   "outputs": [
    {
     "name": "stdout",
     "output_type": "stream",
     "text": [
      "{'classifier': GaussianNB(var_smoothing=0.004094915062380423), 'classifier__var_smoothing': 0.004094915062380423} 0.21218534775077633\n"
     ]
    }
   ],
   "source": [
    "##we use validation set to fine-tune the model hyperparameters\n",
    "#we use binaryRelevance()\n",
    "\n",
    "params_NB=[\n",
    "    { 'classifier':[MultinomialNB(),ComplementNB()],\n",
    "      'classifier__alpha': np.logspace(0,-9, num=50)\n",
    "    },\n",
    "    {\n",
    "       'classifier':[GaussianNB()],\n",
    "        'classifier__var_smoothing': np.logspace(0,-9, num=50)\n",
    "    }\n",
    "]\n",
    "gs_NB = GridSearchCV(BinaryRelevance(), param_grid=params_NB,scoring='accuracy')\n",
    "gs_NB.fit(features_train, labels_train)\n",
    "gs_NB.fit(features_val, labels_val)\n",
    "print (gs_NB.best_params_,gs_NB.best_score_)"
   ]
  },
  {
   "cell_type": "code",
   "execution_count": 11,
   "metadata": {
    "pycharm": {
     "is_executing": true,
     "name": "#%%\n"
    }
   },
   "outputs": [
    {
     "name": "stdout",
     "output_type": "stream",
     "text": [
      "{'method': 'NaiveBayes', 'acc': 0.207, 'precision': 0.3779, 'recall': 0.5517, 'f1': 0.4486}\n"
     ]
    }
   ],
   "source": [
    "##we use Test Dataset to evaluate the model\n",
    "pred = gs_NB.predict(features_test)\n",
    "acc=round(accuracy_score(labels_test,pred),4)\n",
    "pre=round(precision_score(labels_test,pred,average='micro'),4)\n",
    "rec=round(recall_score(labels_test,pred,average='micro'),4)\n",
    "f1=round(f1_score(labels_test,pred,average='micro'),4)\n",
    "\n",
    "scores={'method':'NaiveBayes','acc':acc, 'precision':pre,'recall':rec,'f1':f1}\n",
    "print(scores)"
   ]
  },
  {
   "cell_type": "code",
   "execution_count": 8,
   "metadata": {
    "pycharm": {
     "name": "#%% md\n"
    }
   },
   "outputs": [],
   "source": [
    "scores=[{'method': 'NaiveBayes', 'acc': 0.207, 'precision': 0.3779, 'recall': 0.5517, 'f1': 0.4486}]"
   ]
  },
  {
   "cell_type": "markdown",
   "metadata": {
    "pycharm": {
     "name": "#%% md\n"
    }
   },
   "source": [
    "## ML-knn"
   ]
  },
  {
   "cell_type": "code",
   "execution_count": null,
   "metadata": {
    "pycharm": {
     "is_executing": true,
     "name": "#%%\n"
    }
   },
   "outputs": [
    {
     "name": "stderr",
     "output_type": "stream",
     "text": [
      "C:\\Users\\manon\\anaconda3\\lib\\site-packages\\sklearn\\utils\\validation.py:70: FutureWarning: Pass n_neighbors=1 as keyword args. From version 1.0 (renaming of 0.25) passing these as positional arguments will result in an error\n",
      "  warnings.warn(f\"Pass {args_msg} as keyword args. From version \"\n"
     ]
    }
   ],
   "source": [
    "params_KNN={'k':range(1,3),'s':[0.1,0.01,0.001,0.0001]}\n",
    "gs_KNN = GridSearchCV(knn, param_grid=params_KNN,scoring='accuracy')\n",
    "gs_KNN.fit(features_val, labels_val)\n",
    "print (gs_KNN.best_params_,gs_KNN.best_score_)"
   ]
  },
  {
   "cell_type": "code",
   "execution_count": null,
   "metadata": {
    "pycharm": {
     "is_executing": true,
     "name": "#%%\n"
    }
   },
   "outputs": [],
   "source": [
    "pred = gs_KNN.predict(features_test)\n",
    "acc=round(accuracy_score(labels_test,pred),4)\n",
    "pre=round(precision_score(labels_test,pred,average='micro'),4)\n",
    "rec=round(recall_score(labels_test,pred,average='micro'),4)\n",
    "f1=round(f1_score(labels_test,pred,average='micro'),4)\n",
    "\n",
    "score = {'method':'ML-kNN','acc':acc, 'precision':pre,'recall':rec,'f1':f1}\n",
    "scores.append(score)\n",
    "print(score)"
   ]
  },
  {
   "cell_type": "markdown",
   "metadata": {
    "pycharm": {
     "name": "#%% md\n"
    }
   },
   "source": [
    "## RandomForest"
   ]
  },
  {
   "cell_type": "code",
   "execution_count": null,
   "metadata": {},
   "outputs": [],
   "source": [
    "RF=BinaryRelevance(RandomForestClassifier())\n",
    "RF.fit(features_train, labels_train)\n",
    "pred = RF.predict(features_test)\n",
    "acc=round(accuracy_score(labels_test,pred),4)\n",
    "print(acc)"
   ]
  },
  {
   "cell_type": "code",
   "execution_count": null,
   "metadata": {
    "pycharm": {
     "is_executing": true,
     "name": "#%%\n"
    }
   },
   "outputs": [],
   "source": [
    "params_RF=[\n",
    "    { 'classifier':[RandomForestClassifier()],\n",
    "      'classifier__n_estimators': [100,500,1000,1500],\n",
    "      'classifier__max_depth': np.arange[5,15,35,50],\n",
    "      'classifier__min_samples_split': [5,25,50,75,100],\n",
    "      'classifier__min_samples_leaf': [2,4,6,8,10],\n",
    "      'classifier__max_features': ['auto','sqrt']\n",
    "    }\n",
    "]\n",
    "gs_RF = GridSearchCV(BinaryRelevance(), param_grid=params_RF,scoring='accuracy')\n",
    "gs_RF.fit(features_train, labels_train)\n",
    "gs_RF.fit(features_val, labels_val)\n",
    "print (gs_RF.best_params_,gs_RF.best_score_)"
   ]
  },
  {
   "cell_type": "code",
   "execution_count": null,
   "metadata": {
    "pycharm": {
     "is_executing": true,
     "name": "#%%\n"
    }
   },
   "outputs": [],
   "source": [
    "pred = gs_RF.predict(features_test)\n",
    "acc=round(accuracy_score(labels_test,pred),4)\n",
    "pre=round(precision_score(labels_test,pred,average='micro'),4)\n",
    "rec=round(recall_score(labels_test,pred,average='micro'),4)\n",
    "f1=round(f1_score(labels_test,pred,average='micro'),4)\n",
    "\n",
    "score={'method':'RandForest','acc':acc, 'precision':pre,'recall':rec,'f1':f1}\n",
    "scores.append(score)\n",
    "print(score)"
   ]
  },
  {
   "cell_type": "markdown",
   "metadata": {
    "pycharm": {
     "name": "#%% md\n"
    }
   },
   "source": [
    "## Adaboost"
   ]
  },
  {
   "cell_type": "code",
   "execution_count": null,
   "metadata": {
    "pycharm": {
     "is_executing": true,
     "name": "#%%\n"
    }
   },
   "outputs": [],
   "source": [
    "params_AB=[\n",
    "    { 'classifier':[AdaBoostClassifier()],\n",
    "      'classifier__n_estimators': [100,500,1000,1500,2000],\n",
    "      'classifier__learning_rate': [0.1,0.01,0.001,0.0001],\n",
    "      'classifier__algorithm':['SAMME','SAMME.R']\n",
    "    }\n",
    "]\n",
    "gs_AB = GridSearchCV(BinaryRelevance(), param_grid=params_AB,scoring='accuracy')\n",
    "gs_AB.fit(features_train, labels_train)\n",
    "gs_AB.fit(features_val, labels_val)\n",
    "print (gs_AB.best_params_,gs_AB.best_score_)"
   ]
  },
  {
   "cell_type": "code",
   "execution_count": null,
   "metadata": {
    "pycharm": {
     "is_executing": true,
     "name": "#%%\n"
    }
   },
   "outputs": [],
   "source": [
    "pred = gs_AB.predict(features_test)\n",
    "acc=round(accuracy_score(labels_test,pred),4)\n",
    "pre=round(precision_score(labels_test,pred,average='micro'),4)\n",
    "rec=round(recall_score(labels_test,pred,average='micro'),4)\n",
    "f1=round(f1_score(labels_test,pred,average='micro'),4)\n",
    "\n",
    "score={'method':'Adaboost','acc':acc, 'precision':pre,'recall':rec,'f1':f1}\n",
    "scores.append(score)\n",
    "print(score)"
   ]
  },
  {
   "cell_type": "markdown",
   "metadata": {},
   "source": [
    "## SVM"
   ]
  },
  {
   "cell_type": "code",
   "execution_count": null,
   "metadata": {},
   "outputs": [],
   "source": [
    "params_SVM=[\n",
    "    { 'classifier':[SVC()],\n",
    "      'classifier__kernel': ['rbf','linear'],\n",
    "      'classifier__C': [0.1,0.01,0.001,0.0001,0.00001],\n",
    "      'classifier__gamma': [0.1,0.01,0.001,0.0001,0.00001]\n",
    "    }\n",
    "]\n",
    "gs_SVM = GridSearchCV(BinaryRelevance(), param_grid=params_SVM,scoring='accuracy')\n",
    "gs_SVM.fit(features_train, labels_train)\n",
    "gs_SVM.fit(features_val, labels_val)\n",
    "print (gs_SVM.best_params_,gs_SVM.best_score_)"
   ]
  },
  {
   "cell_type": "code",
   "execution_count": null,
   "metadata": {},
   "outputs": [],
   "source": [
    "pred = gs_SVM.predict(features_test)\n",
    "acc=round(accuracy_score(labels_test,pred),4)\n",
    "pre=round(precision_score(labels_test,pred,average='micro'),4)\n",
    "rec=round(recall_score(labels_test,pred,average='micro'),4)\n",
    "f1=round(f1_score(labels_test,pred,average='micro'),4)\n",
    "\n",
    "scores=[scores]\n",
    "score={'method':'SVM','acc':acc, 'precision':pre,'recall':rec,'f1':f1}\n",
    "scores.append(score)\n",
    "print(score)"
   ]
  },
  {
   "cell_type": "markdown",
   "metadata": {
    "pycharm": {
     "name": "#%% md\n"
    }
   },
   "source": [
    "## Comparatif des algorithmes"
   ]
  },
  {
   "cell_type": "code",
   "execution_count": null,
   "metadata": {
    "pycharm": {
     "is_executing": true,
     "name": "#%%\n"
    }
   },
   "outputs": [],
   "source": [
    "print(scores)"
   ]
  },
  {
   "cell_type": "markdown",
   "metadata": {
    "pycharm": {
     "name": "#%% md\n"
    }
   },
   "source": [
    "### expérimentations sur un jeu de données plus petit"
   ]
  },
  {
   "cell_type": "code",
   "execution_count": 4,
   "metadata": {
    "pycharm": {
     "name": "#%%\n"
    }
   },
   "outputs": [],
   "source": [
    "X_val, labels_val, dico_labels_val = load_data(\"val\",20)"
   ]
  },
  {
   "cell_type": "code",
   "execution_count": 5,
   "metadata": {
    "pycharm": {
     "name": "#%%\n"
    }
   },
   "outputs": [],
   "source": [
    "labels_preprocessed_val = intents_preprocessing(labels_val)\n",
    "X_val_preprocess = [[preprocessing(text) for text in dialogue] for dialogue in X_val]"
   ]
  },
  {
   "cell_type": "code",
   "execution_count": 14,
   "metadata": {
    "pycharm": {
     "name": "#%%\n"
    }
   },
   "outputs": [
    {
     "data": {
      "application/vnd.jupyter.widget-view+json": {
       "model_id": "f10e7736317a4c0e97e0ad4c82740f2f",
       "version_major": 2,
       "version_minor": 0
      },
      "text/plain": [
       "  0%|          | 0/2482 [00:00<?, ?it/s]"
      ]
     },
     "metadata": {},
     "output_type": "display_data"
    }
   ],
   "source": [
    "features_val = preprocessing.feature_analysis(X_val_preprocess)"
   ]
  },
  {
   "cell_type": "code",
   "execution_count": 15,
   "metadata": {
    "pycharm": {
     "name": "#%%\n"
    }
   },
   "outputs": [],
   "source": [
    "#utiliser flatten ?\n",
    "features_val=sum(features_val,[])"
   ]
  },
  {
   "cell_type": "code",
   "execution_count": 16,
   "metadata": {
    "pycharm": {
     "name": "#%%\n"
    }
   },
   "outputs": [
    {
     "name": "stdout",
     "output_type": "stream",
     "text": [
      "48726\n",
      "{'cos_initial_utterance': 1.0, 'cos_entire_dialogue': 1.755, 'question': 0.0, 'same': 0.0, 'pos': 0.0, 'nor_pos': 0.0, 'num_w': 9.0, 'sw': 9.0, 'sw_stem': 9.0, 'is_starter': 1.0, 'thank': 0.0, 'exc': 0.0, 'neg': 0.0, 'positif': 0.085, 'negatif': 0.0, 'neutre': 0.915}\n",
      "['cos_entire_dialogue' 'cos_initial_utterance' 'exc' 'is_starter' 'neg'\n",
      " 'negatif' 'neutre' 'nor_pos' 'num_w' 'pos' 'positif' 'question' 'same'\n",
      " 'sw' 'sw_stem' 'thank']\n"
     ]
    }
   ],
   "source": [
    "print(len(features_val))\n",
    "print(features_val[0])\n",
    "vec = DictVectorizer()\n",
    "features = vec.fit_transform(features_val)\n",
    "print(vec.get_feature_names_out())"
   ]
  },
  {
   "cell_type": "code",
   "execution_count": 18,
   "metadata": {
    "pycharm": {
     "name": "#%%\n"
    },
    "scrolled": true
   },
   "outputs": [
    {
     "name": "stdout",
     "output_type": "stream",
     "text": [
      "48726\n",
      "[['INFORM', 'INFORM_INTENT'], ['REQUEST'], ['INFORM'], ['CONFIRM'], ['REQUEST', 'AFFIRM'], ['INFORM', 'NOTIFY_SUCCESS'], ['REQUEST'], ['INFORM'], ['THANK_YOU'], ['REQ_MORE']]\n"
     ]
    }
   ],
   "source": [
    "clf = BinaryRelevance(classifier=MultinomialNB())\n",
    "labels_val=sum(labels_preprocessed_val,[])\n",
    "print(len(labels_val))\n",
    "print(labels_val[:10])\n",
    "binarizer=MultiLabelBinarizer()\n",
    "labels_val=binarizer.fit_transform(labels_val)"
   ]
  },
  {
   "cell_type": "code",
   "execution_count": 19,
   "metadata": {
    "pycharm": {
     "name": "#%%\n"
    }
   },
   "outputs": [
    {
     "name": "stdout",
     "output_type": "stream",
     "text": [
      "[0 0 0 0 1 0 1 0 0 0 0 0 0 0 0 0 0 0]\n",
      "[0 0 0 0 0 0 0 0 0 0 0 0 0 1 0 0 0 0]\n"
     ]
    }
   ],
   "source": [
    "print(labels_val[0])\n",
    "print(labels_val[1])"
   ]
  },
  {
   "cell_type": "code",
   "execution_count": 20,
   "metadata": {
    "pycharm": {
     "name": "#%%\n"
    }
   },
   "outputs": [
    {
     "data": {
      "text/plain": [
       "BinaryRelevance(classifier=MultinomialNB(), require_dense=[True, True])"
      ]
     },
     "execution_count": 20,
     "metadata": {},
     "output_type": "execute_result"
    }
   ],
   "source": [
    "clf.fit(features, labels_val)"
   ]
  },
  {
   "cell_type": "code",
   "execution_count": null,
   "metadata": {
    "pycharm": {
     "name": "#%%\n"
    }
   },
   "outputs": [],
   "source": []
  }
 ],
 "metadata": {
  "kernelspec": {
   "display_name": "Python 3 (ipykernel)",
   "language": "python",
   "name": "python3"
  },
  "language_info": {
   "codemirror_mode": {
    "name": "ipython",
    "version": 3
   },
   "file_extension": ".py",
   "mimetype": "text/x-python",
   "name": "python",
   "nbconvert_exporter": "python",
   "pygments_lexer": "ipython3",
   "version": "3.9.7"
  }
 },
 "nbformat": 4,
 "nbformat_minor": 1
}
